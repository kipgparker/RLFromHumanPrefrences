{
 "cells": [
  {
   "cell_type": "code",
   "execution_count": 1,
   "metadata": {},
   "outputs": [],
   "source": [
    "import time\n",
    "import numpy as np"
   ]
  },
  {
   "cell_type": "code",
   "execution_count": 112,
   "metadata": {},
   "outputs": [],
   "source": [
    "import torch\n",
    "import torch.nn as nn\n",
    "import torch.nn.functional as F\n",
    "\n",
    "class RewardPredictorNetwork(nn.Module):\n",
    "    \"\"\"\n",
    "    Predict the reward that a human would assign to each frame of\n",
    "    the input trajectory, trained using the human's preferences between\n",
    "    pairs of trajectories.\n",
    "    Network inputs:\n",
    "    - s1/s2     Trajectory pairs\n",
    "    - pref      Preferences between each pair of trajectories\n",
    "    Network outputs:\n",
    "    - r1/r2     Reward predicted for each frame\n",
    "    - rs1/rs2   Reward summed over all frames for each trajectory\n",
    "    - pred      Predicted preference\n",
    "    \"\"\"\n",
    "    \n",
    "    def __init__(self, env):\n",
    "        super(RewardPredictorNetwork, self).__init__()\n",
    "        nh, nw, nc = env.observation_space.shape\n",
    "        nact = env.action_space.n\n",
    "        \n",
    "        self.conv1 = nn.Conv2d(nc, 8, kernel_size=5, stride=2)\n",
    "        self.bn1 = nn.BatchNorm2d(8)\n",
    "        self.conv2 = nn.Conv2d(8, 16, kernel_size=5, stride=2)\n",
    "        self.bn2 = nn.BatchNorm2d(16)\n",
    "        self.conv3 = nn.Conv2d(16, 32, kernel_size=5, stride=2)\n",
    "        self.bn3 = nn.BatchNorm2d(32)\n",
    "        self.conv4 = nn.Conv2d(32, 32, kernel_size=5, stride=2)\n",
    "        self.bn4 = nn.BatchNorm2d(32)\n",
    "        \n",
    "        def conv2d_size_out(size, kernel_size = 5, stride = 2):\n",
    "            return (size - (kernel_size - 1) - 1) // stride  + 1\n",
    "        \n",
    "        convw = conv2d_size_out(conv2d_size_out(conv2d_size_out(conv2d_size_out(nw))))\n",
    "        convh = conv2d_size_out(conv2d_size_out(conv2d_size_out(conv2d_size_out(nh))))\n",
    "        \n",
    "        linear_input_size = convw * convh * 32\n",
    "        \n",
    "        self.head1 = nn.Linear(linear_input_size, 16)\n",
    "        self.head2 = nn.Linear(16, 1)\n",
    "        \n",
    "        self.softmax = nn.Softmax(dim=1)\n",
    "        \n",
    "    def forward(self, s1s, s2s):        \n",
    "        assert s1s.shape == s2s.shape, \"segments should be the same shape\"\n",
    "        \n",
    "        shape = s1s.shape\n",
    "        batch_size = shape[0]\n",
    "        segment_length = shape[1]\n",
    "        \n",
    "        #wrapping segment_length and batch_size, so size[0] is 'batchsize * segment_length'\n",
    "        s1s = torch.reshape(s1s, ([-1] + list(s1s.shape[2:])))\n",
    "        s2s = torch.reshape(s2s, ([-1] + list(s2s.shape[2:])))\n",
    "        \n",
    "        #stack segments and batchsize together, so new shape is '2 * batchsize * segment_length'\n",
    "        x = torch.cat((s1s, s2s), axis = 0)\n",
    "        \n",
    "        #pass segment data through convolutional model\n",
    "        x = F.relu(self.bn1(self.conv1(x)))\n",
    "        x = F.relu(self.bn2(self.conv2(x)))\n",
    "        x = F.relu(self.bn3(self.conv3(x)))\n",
    "        x = F.relu(self.bn4(self.conv4(x)))\n",
    "        x = x.view(x.size(0), -1)\n",
    "        x = F.relu(self.head1(x))\n",
    "        x = self.head2(x)\n",
    "    \n",
    "        #Split rewards at each frame back into individual segments\n",
    "        #where shape is 'batchsize * segment_length'\n",
    "        r1s, r2s = torch.split(x, batch_size * segment_length)\n",
    "        \n",
    "        #unwrapping segment_length and batch_size\n",
    "        r1s =  torch.reshape(r1s, [batch_size, segment_length, -1])\n",
    "        r2s =  torch.reshape(r2s, [batch_size, segment_length, -1])\n",
    "        \n",
    "        #Sum over all the segment_length to get a shape of 'batch_size'\n",
    "        r1 = torch.sum(r1s, axis = 1)\n",
    "        r2 = torch.sum(r2s, axis = 1)\n",
    "        \n",
    "        #Predict human preference for each segment\n",
    "        rs = torch.cat((r1, r2), axis = 1)\n",
    "        pred = self.softmax(rs)\n",
    "        \n",
    "        return r1s, r2s, pred\n",
    "    \n",
    "    def predict_single(self, s1s):\n",
    "        \n",
    "        #pass segment data through convolutional model\n",
    "        x = F.relu(self.bn1(self.conv1(s1s)))\n",
    "        x = F.relu(self.bn2(self.conv2(x)))\n",
    "        x = F.relu(self.bn3(self.conv3(x)))\n",
    "        x = F.relu(self.bn4(self.conv4(x)))\n",
    "        x = x.view(x.size(0), -1)\n",
    "        x = F.relu(self.head1(x))\n",
    "        r1s = self.head2(x)\n",
    "        \n",
    "        return r1s"
   ]
  },
  {
   "cell_type": "code",
   "execution_count": 183,
   "metadata": {},
   "outputs": [],
   "source": [
    "class RewardPredictorEnsemble(nn.Module):\n",
    "    def __init__(self,\n",
    "                 env,\n",
    "                 lr=3e-4,\n",
    "                 n_preds=1):\n",
    "        \n",
    "        super(RewardPredictorEnsemble, self).__init__()\n",
    "        self.n_preds = n_preds\n",
    "        self.rps = []\n",
    "        for pred_n in range(n_preds):\n",
    "            rp = RewardPredictorNetwork(env)\n",
    "            self.rps.append(rp)\n",
    "    \n",
    "        self.n_steps = 0\n",
    "        \n",
    "    def forward(self, x):\n",
    "        \"\"\"\n",
    "        Return concatenation of all the reward networks outputs\n",
    "        \"\"\"\n",
    "        return torch.cat([rp(x.clone()) for rp in self.rps], dim=1)\n",
    "    \n",
    "    def raw_reward(self, x):\n",
    "        \"\"\"\n",
    "        Returns reward at each frame for a batch of clips\n",
    "        \"\"\"\n",
    "        stack = torch.stack([rp.predict_single(x.clone()) for rp in self.rps], dim=0)\n",
    "        return torch.squeeze(stack)\n",
    "    \n",
    "    def reward(self, x):\n",
    "        \"\"\"\n",
    "        Return (normalized) reward for each frame of a single segment.\n",
    "        (Normalization involves normalizing the rewards from each member of the\n",
    "        ensemble separately, then averaging the resulting rewards across all\n",
    "        ensemble members.)\n",
    "        \"\"\"\n",
    "        with torch.no_grad():\n",
    "            ensemble_rewards = self.raw_reward(x).permute(1,0)\n",
    "            \n",
    "        print(ensemble_rewards.shape)\n",
    "            \n",
    "        ensemble_rewards -= ensemble_rewards.mean(axis = 0)\n",
    "        ensemble_rewards /= (ensemble_rewards.std(axis = 0)+1e-12)\n",
    "        ensemble_rewards *= 0.05\n",
    "        \n",
    "        rs = torch.mean(ensemble_rewards, axis=0)\n",
    "        \n",
    "        return rs\n",
    "    \n",
    "    def preferences(self, s1, s2):\n",
    "        \"\"\"\n",
    "        Predict probability of human preferring one segment over another\n",
    "        for each segment in the supplied batch of segment pairs.\n",
    "        \"\"\"\n",
    "        pass\n",
    "    \n",
    "    def train(self, prefs_train, prefs_val, val_interval):\n",
    "        \"\"\"\n",
    "        Train all ensemble members for one epoch\n",
    "        \"\"\"\n",
    "        \n",
    "        print(\"Training with {} prefrences and {} Test\".format(len(prefs_train), len(prefs_val)))\n",
    "        \n",
    "        start_steps = self.n_steps\n",
    "        start_time = time.time()\n",
    "        \n",
    "        "
   ]
  },
  {
   "cell_type": "code",
   "execution_count": 184,
   "metadata": {},
   "outputs": [
    {
     "name": "stdout",
     "output_type": "stream",
     "text": [
      "torch.Size([30, 10])\n"
     ]
    },
    {
     "data": {
      "text/plain": [
       "torch.Size([10])"
      ]
     },
     "execution_count": 184,
     "metadata": {},
     "output_type": "execute_result"
    }
   ],
   "source": [
    "import gym\n",
    "env = gym.make(\"Pong-v0\")\n",
    "\n",
    "r = RewardPredictorEnsemble(env=env, n_preds = 10)\n",
    "\n",
    "pred = r.reward(torch.rand((30, 3, 210, 160)))\n",
    "pred.shape"
   ]
  },
  {
   "cell_type": "code",
   "execution_count": 186,
   "metadata": {},
   "outputs": [
    {
     "ename": "IndexError",
     "evalue": "Dimension out of range (expected to be in range of [-1, 0], but got 1)",
     "output_type": "error",
     "traceback": [
      "\u001b[0;31m---------------------------------------------------------------------------\u001b[0m",
      "\u001b[0;31mIndexError\u001b[0m                                Traceback (most recent call last)",
      "\u001b[0;32m<ipython-input-186-cf90de4079b4>\u001b[0m in \u001b[0;36m<module>\u001b[0;34m\u001b[0m\n\u001b[0;32m----> 1\u001b[0;31m \u001b[0mtorch\u001b[0m\u001b[0;34m.\u001b[0m\u001b[0mtranspose\u001b[0m\u001b[0;34m(\u001b[0m\u001b[0mpred\u001b[0m\u001b[0;34m,\u001b[0m \u001b[0;36m0\u001b[0m\u001b[0;34m,\u001b[0m \u001b[0;36m1\u001b[0m\u001b[0;34m)\u001b[0m\u001b[0;34m.\u001b[0m\u001b[0mstd\u001b[0m\u001b[0;34m(\u001b[0m\u001b[0maxis\u001b[0m \u001b[0;34m=\u001b[0m \u001b[0;36m1\u001b[0m\u001b[0;34m)\u001b[0m\u001b[0;34m\u001b[0m\u001b[0;34m\u001b[0m\u001b[0m\n\u001b[0m",
      "\u001b[0;31mIndexError\u001b[0m: Dimension out of range (expected to be in range of [-1, 0], but got 1)"
     ]
    }
   ],
   "source": [
    "torch.transpose(pred, 0, 1).std(axis = 1)"
   ]
  },
  {
   "cell_type": "code",
   "execution_count": 65,
   "metadata": {},
   "outputs": [],
   "source": []
  },
  {
   "cell_type": "code",
   "execution_count": 59,
   "metadata": {},
   "outputs": [
    {
     "data": {
      "text/plain": [
       "[<matplotlib.lines.Line2D at 0x7f674b2afd50>,\n",
       " <matplotlib.lines.Line2D at 0x7f674b2aff50>,\n",
       " <matplotlib.lines.Line2D at 0x7f66b4d280d0>,\n",
       " <matplotlib.lines.Line2D at 0x7f66b4d28310>,\n",
       " <matplotlib.lines.Line2D at 0x7f66b4d284d0>,\n",
       " <matplotlib.lines.Line2D at 0x7f66b4d28790>]"
      ]
     },
     "execution_count": 59,
     "metadata": {},
     "output_type": "execute_result"
    },
    {
     "data": {
      "image/png": "[encoded data removed]",
      "text/plain": [
       "<Figure size 432x288 with 1 Axes>"
      ]
     },
     "metadata": {
      "needs_background": "light"
     },
     "output_type": "display_data"
    }
   ],
   "source": [
    "import matplotlib.pyplot as plt\n",
    "plt.plot([r(torch.zeros((1, 3, 210, 160))).std(axis=0).detach().numpy() for _ in range(10)])"
   ]
  },
  {
   "cell_type": "code",
   "execution_count": null,
   "metadata": {},
   "outputs": [],
   "source": [
    "class RewardPredictorNetwork():\n",
    "    \"\"\"\n",
    "    Predict the reward any given human would assign to the pair of \n",
    "    input trajectories, trained using human prefrences\n",
    "    \"\"\""
   ]
  },
  {
   "cell_type": "code",
   "execution_count": 26,
   "metadata": {},
   "outputs": [
    {
     "data": {
      "text/plain": [
       "tensor([[[[0., 0., 0.,  ..., 0., 0., 0.],\n",
       "          [0., 0., 0.,  ..., 0., 0., 0.],\n",
       "          [0., 0., 0.,  ..., 0., 0., 0.],\n",
       "          ...,\n",
       "          [0., 0., 0.,  ..., 0., 0., 0.],\n",
       "          [0., 0., 0.,  ..., 0., 0., 0.],\n",
       "          [0., 0., 0.,  ..., 0., 0., 0.]],\n",
       "\n",
       "         [[0., 0., 0.,  ..., 0., 0., 0.],\n",
       "          [0., 0., 0.,  ..., 0., 0., 0.],\n",
       "          [0., 0., 0.,  ..., 0., 0., 0.],\n",
       "          ...,\n",
       "          [0., 0., 0.,  ..., 0., 0., 0.],\n",
       "          [0., 0., 0.,  ..., 0., 0., 0.],\n",
       "          [0., 0., 0.,  ..., 0., 0., 0.]],\n",
       "\n",
       "         [[0., 0., 0.,  ..., 0., 0., 0.],\n",
       "          [0., 0., 0.,  ..., 0., 0., 0.],\n",
       "          [0., 0., 0.,  ..., 0., 0., 0.],\n",
       "          ...,\n",
       "          [0., 0., 0.,  ..., 0., 0., 0.],\n",
       "          [0., 0., 0.,  ..., 0., 0., 0.],\n",
       "          [0., 0., 0.,  ..., 0., 0., 0.]]]])"
      ]
     },
     "execution_count": 26,
     "metadata": {},
     "output_type": "execute_result"
    }
   ],
   "source": [
    "torch.zeros((1, 3, 210, 160))"
   ]
  },
  {
   "cell_type": "code",
   "execution_count": null,
   "metadata": {},
   "outputs": [],
   "source": []
  }
 ],
 "metadata": {
  "kernelspec": {
   "display_name": "Python 3",
   "language": "python",
   "name": "python3"
  },
  "language_info": {
   "codemirror_mode": {
    "name": "ipython",
    "version": 3
   },
   "file_extension": ".py",
   "mimetype": "text/x-python",
   "name": "python",
   "nbconvert_exporter": "python",
   "pygments_lexer": "ipython3",
   "version": "3.7.6"
  }
 },
 "nbformat": 4,
 "nbformat_minor": 4
}
