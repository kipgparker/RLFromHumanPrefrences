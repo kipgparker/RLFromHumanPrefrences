{
 "cells": [
  {
   "cell_type": "code",
   "execution_count": 1,
   "metadata": {},
   "outputs": [
    {
     "name": "stderr",
     "output_type": "stream",
     "text": [
      "C:\\Users\\kipst\\Anaconda3\\lib\\site-packages\\ipykernel_launcher.py:5: DeprecationWarning: Using or importing the ABCs from 'collections' instead of from 'collections.abc' is deprecated, and in 3.8 it will stop working\n",
      "  \"\"\"\n"
     ]
    }
   ],
   "source": [
    "from torch.utils.data import Dataset, Subset\n",
    "from random import shuffle\n",
    "from itertools import combinations\n",
    "from threading import Lock, Thread\n",
    "from collections import MutableMapping\n",
    "import time\n",
    "import pickle\n",
    "import zlib\n",
    "import numpy as np\n",
    "\n",
    "import garner as g"
   ]
  },
  {
   "cell_type": "code",
   "execution_count": 2,
   "metadata": {},
   "outputs": [],
   "source": [
    "class Segment:\n",
    "    \"\"\"\n",
    "    A short recording of agent's behaviour in the environment,\n",
    "    consisting of a number of video frames and the rewards it received\n",
    "    during those frames.\n",
    "    \"\"\"\n",
    "\n",
    "    def __init__(self):\n",
    "        self.frames = []\n",
    "        self.rewards = []\n",
    "        self.hash = None\n",
    "\n",
    "    def append(self, frame, reward = None):\n",
    "        self.frames.append(frame)\n",
    "        self.rewards.append(reward)\n",
    "\n",
    "    def finalise(self, seg_id=None):\n",
    "        if seg_id is not None:\n",
    "            self.hash = seg_id\n",
    "        else:\n",
    "            # This looks expensive, but don't worry -\n",
    "            # it only takes about 0.5 ms.\n",
    "            self.hash = hash(np.array(self.frames).tobytes())\n",
    "\n",
    "    def __len__(self):\n",
    "        return len(self.frames)\n",
    "    \n",
    "class CompressedDict(MutableMapping):\n",
    "\n",
    "    def __init__(self):\n",
    "        self.store = dict()\n",
    "\n",
    "    def __getitem__(self, key):\n",
    "        return pickle.loads(zlib.decompress(self.store[key]))\n",
    "\n",
    "    def __setitem__(self, key, value):\n",
    "        self.store[key] = zlib.compress(pickle.dumps(value))\n",
    "\n",
    "    def __delitem__(self, key):\n",
    "        del self.store[key]\n",
    "\n",
    "    def __iter__(self):\n",
    "        return iter(self.store)\n",
    "\n",
    "    def __len__(self):\n",
    "        return len(self.store)\n",
    "\n",
    "    def __keytransform__(self, key):\n",
    "        return key\n",
    "    \n",
    "class PrefDB(Dataset):\n",
    "    \"\"\"\n",
    "    A circular database of preferences about pairs of segments.\n",
    "    For each preference, we store the preference itself\n",
    "    (mu in the paper) and the two segments the preference refers to.\n",
    "    Segments are stored with deduplication - so that if multiple\n",
    "    preferences refer to the same segment, the segment is only stored once.\n",
    "    \"\"\"\n",
    "\n",
    "    def __init__(self, maxlen):\n",
    "        self.segments = CompressedDict()\n",
    "        self.seg_refs = {}\n",
    "        self.prefs = []\n",
    "        self.maxlen = maxlen\n",
    "\n",
    "    def append(self, s1, s2, pref):\n",
    "        k1 = hash(np.array(s1).tobytes())\n",
    "        k2 = hash(np.array(s2).tobytes())\n",
    "\n",
    "        for k, s in zip([k1, k2], [s1, s2]):\n",
    "            if k not in self.segments.keys():\n",
    "                self.segments[k] = s\n",
    "                self.seg_refs[k] = 1\n",
    "            else:\n",
    "                self.seg_refs[k] += 1\n",
    "\n",
    "        tup = (k1, k2, pref)\n",
    "        self.prefs.append(tup)\n",
    "\n",
    "        if len(self.prefs) > self.maxlen:\n",
    "            self.del_first()\n",
    "\n",
    "    def del_first(self):\n",
    "        self.del_pref(0)\n",
    "\n",
    "    def del_pref(self, n):\n",
    "        if n >= len(self.prefs):\n",
    "            raise IndexError(\"Preference {} doesn't exist\".format(n))\n",
    "        k1, k2, _ = self.prefs[n]\n",
    "        for k in [k1, k2]:\n",
    "            if self.seg_refs[k] == 1:\n",
    "                del self.segments[k]\n",
    "                del self.seg_refs[k]\n",
    "            else:\n",
    "                self.seg_refs[k] -= 1\n",
    "        del self.prefs[n]\n",
    "\n",
    "    def __len__(self):\n",
    "        return len(self.prefs)"
   ]
  },
  {
   "cell_type": "code",
   "execution_count": 3,
   "metadata": {},
   "outputs": [],
   "source": [
    "class PrefBuffer:\n",
    "    def __init__(self, garner, db_train, db_val, maxlen = 1000, maxqlen = 3):\n",
    "        \n",
    "        self.garner = garner\n",
    "        self.train_db = db_train\n",
    "        self.val_db = db_val\n",
    "        self.val_fraction = self.val_db.maxlen / (self.val_db.maxlen +\n",
    "                                     self.train_db.maxlen)\n",
    "        \n",
    "        self.segments = CompressedDict()\n",
    "        self.seg_refs = {}\n",
    "        \n",
    "        self.tested_pairs = set()\n",
    "        self.queue = {}\n",
    "        self.maxlen = maxlen\n",
    "        self.maxqlen = maxqlen\n",
    "        self.lock = Lock()\n",
    "        self.stop_run = False\n",
    "        \n",
    "        #returned = garner.get_backlog(limit=maxlen)\n",
    "        \n",
    "        #for uuid, val in returned.items():\n",
    "            \n",
    "            \n",
    "            \n",
    "            #self.lock.acquire(blocking=True)\n",
    "            \n",
    "            #if np.random.rand() < self.val_fraction:\n",
    "            #    self.val_db.append(val[0][0][:,:,:,0:3], val[0][1][:,:,:,0:3], 1 if val[1] else 0)\n",
    "            #else:\n",
    "            #    self.train_db.append(val[0][0][:,:,:,0:3], val[0][1][:,:,:,0:3],  1 if val[1] else 0)\n",
    "                \n",
    "            #self.lock.release()\n",
    "            \n",
    "    #Aquiring old currently not a good idea :/\n",
    "        \n",
    "        \n",
    "    def select_prefs(self):\n",
    "        segment_idxs = list(range(len(self.segments)))\n",
    "        shuffle(segment_idxs)\n",
    "        possible_pairs = combinations(segment_idxs, 2)\n",
    "        \n",
    "        keys = list(pref_buffer.segments.keys())\n",
    "        \n",
    "        for i1, i2 in possible_pairs: \n",
    "            s1, s2 = self.segments[keys[i1]], self.segments[keys[i2]]\n",
    "            if ((s1.hash, s2.hash) not in self.tested_pairs) and \\\n",
    "               ((s2.hash, s1.hash) not in self.tested_pairs):\n",
    "                self.tested_pairs.add((s1.hash, s2.hash))\n",
    "                self.tested_pairs.add((s2.hash, s1.hash))\n",
    "                return s1.hash, s2.hash\n",
    "        \n",
    "        \n",
    "    def recv_prefs(self):\n",
    "        result = self.garner.query()\n",
    "        \n",
    "        print(result)\n",
    "        \n",
    "        if len(result) != 0:\n",
    "            for key, value in result.items():\n",
    "                k1, k2 = self.queue[key]\n",
    "                \n",
    "                if np.random.rand() < self.val_fraction:\n",
    "                    self.val_db.append(self.segments[k1].frames, self.segments[k2].frames, 1 if value else 0)\n",
    "                else:\n",
    "                    self.train_db.append(self.segments[k1].frames, self.segments[k2].frames, 1 if value else 0)\n",
    "            del self.queue[key]\n",
    "            \n",
    "    def put_prefs(self):\n",
    "        try:\n",
    "            while len(self.queue) <= self.maxqlen:\n",
    "                print('put')\n",
    "                k1, k2 = self.select_prefs()\n",
    "                pref_id = self.garner.put([np.array(self.segments[k1].frames), np.array(self.segments[k1].frames)], False)\n",
    "                self.queue[pref_id] = (k1, k2)\n",
    "        except:\n",
    "            print('No prefs to compare')\n",
    "        \n",
    "    def run(self):\n",
    "        while not self.stop_run:\n",
    "            time.sleep(1)\n",
    "            self.put_prefs()\n",
    "            self.recv_prefs()\n",
    "            \n",
    "    def start_thread(self):\n",
    "        self.stop_run = False\n",
    "        self.garner.connect()\n",
    "        Thread(target=self.run).start()\n",
    "        #self.run()\n",
    "        \n",
    "    def stop_thread(self):\n",
    "        self.garner.disconnect()\n",
    "        self.stop_recv = True\n",
    "    \n",
    "    def get_dbs(self):\n",
    "        self.lock.acquire(blocking=True)\n",
    "        train_copy = copy.deepcopy(self.train_db)\n",
    "        val_copy = copy.deepcopy(self.val_db)\n",
    "        self.lock.release()\n",
    "        return train_copy, val_copy\n",
    "    \n",
    "    def add_segment(self, segment):\n",
    "        \n",
    "        k = segment.hash\n",
    "        \n",
    "        if k not in self.segments.keys():\n",
    "            self.segments[k] = seg\n",
    "            self.seg_refs[k] = 1\n",
    "        else:\n",
    "            self.seg_refs[k] += 1\n",
    "        \n",
    "        if len(self.prefs) > self.maxlen:\n",
    "            self.del_first()\n",
    "            \n",
    "        #            k1 = hash(np.array(s1).tobytes())\n",
    "        #k2 = hash(np.array(s2).tobytes())\n",
    "\n",
    "\n",
    "    def del_first(self):\n",
    "        self.del_pref(0)\n",
    "\n",
    "    def del_pref(self, n):\n",
    "        if n >= len(self.prefs):\n",
    "            raise IndexError(\"Preference {} doesn't exist\".format(n))\n",
    "        k1, k2, _ = self.prefs[n]\n",
    "        for k in [k1, k2]:\n",
    "            if self.seg_refs[k] == 1:\n",
    "                del self.segments[k]\n",
    "                del self.seg_refs[k]\n",
    "            else:\n",
    "                self.seg_refs[k] -= 1\n",
    "        del self.prefs[n]\n",
    "\n",
    "    def __len__(self):\n",
    "        return len(self.prefs)"
   ]
  },
  {
   "cell_type": "code",
   "execution_count": 4,
   "metadata": {},
   "outputs": [
    {
     "name": "stdout",
     "output_type": "stream",
     "text": [
      "Authenticated\n"
     ]
    }
   ],
   "source": [
    "g.login('kipgparker@gmail.com')\n",
    "g.select_pool('Deep reinforcement learning from human prefrences')\n",
    "\n",
    "\n",
    "pref_db_train = PrefDB(maxlen=20000)\n",
    "pref_db_val = PrefDB(maxlen=5000)\n",
    "pref_buffer = PrefBuffer(garner = g, db_train=pref_db_train,\n",
    "                 db_val=pref_db_val)"
   ]
  },
  {
   "cell_type": "code",
   "execution_count": 5,
   "metadata": {},
   "outputs": [
    {
     "ename": "AttributeError",
     "evalue": "'PrefBuffer' object has no attribute 'prefs'",
     "output_type": "error",
     "traceback": [
      "\u001b[1;31m---------------------------------------------------------------------------\u001b[0m",
      "\u001b[1;31mAttributeError\u001b[0m                            Traceback (most recent call last)",
      "\u001b[1;32m<ipython-input-5-6f415b003a08>\u001b[0m in \u001b[0;36m<module>\u001b[1;34m\u001b[0m\n\u001b[0;32m     18\u001b[0m     \u001b[1;32mif\u001b[0m \u001b[0mdone\u001b[0m\u001b[1;33m:\u001b[0m\u001b[1;33m\u001b[0m\u001b[1;33m\u001b[0m\u001b[0m\n\u001b[0;32m     19\u001b[0m         \u001b[0msegment\u001b[0m\u001b[1;33m.\u001b[0m\u001b[0mfinalise\u001b[0m\u001b[1;33m(\u001b[0m\u001b[1;33m)\u001b[0m\u001b[1;33m\u001b[0m\u001b[1;33m\u001b[0m\u001b[0m\n\u001b[1;32m---> 20\u001b[1;33m         \u001b[0mpref_buffer\u001b[0m\u001b[1;33m.\u001b[0m\u001b[0madd_segment\u001b[0m\u001b[1;33m(\u001b[0m\u001b[0msegment\u001b[0m\u001b[1;33m)\u001b[0m\u001b[1;33m\u001b[0m\u001b[1;33m\u001b[0m\u001b[0m\n\u001b[0m\u001b[0;32m     21\u001b[0m \u001b[1;33m\u001b[0m\u001b[0m\n\u001b[0;32m     22\u001b[0m         \u001b[0msegment\u001b[0m \u001b[1;33m=\u001b[0m \u001b[0mSegment\u001b[0m\u001b[1;33m(\u001b[0m\u001b[1;33m)\u001b[0m\u001b[1;33m\u001b[0m\u001b[1;33m\u001b[0m\u001b[0m\n",
      "\u001b[1;32m<ipython-input-3-dd329ceae55a>\u001b[0m in \u001b[0;36madd_segment\u001b[1;34m(self, segment)\u001b[0m\n\u001b[0;32m    110\u001b[0m             \u001b[0mself\u001b[0m\u001b[1;33m.\u001b[0m\u001b[0mseg_refs\u001b[0m\u001b[1;33m[\u001b[0m\u001b[0mk\u001b[0m\u001b[1;33m]\u001b[0m \u001b[1;33m+=\u001b[0m \u001b[1;36m1\u001b[0m\u001b[1;33m\u001b[0m\u001b[1;33m\u001b[0m\u001b[0m\n\u001b[0;32m    111\u001b[0m \u001b[1;33m\u001b[0m\u001b[0m\n\u001b[1;32m--> 112\u001b[1;33m         \u001b[1;32mif\u001b[0m \u001b[0mlen\u001b[0m\u001b[1;33m(\u001b[0m\u001b[0mself\u001b[0m\u001b[1;33m.\u001b[0m\u001b[0mprefs\u001b[0m\u001b[1;33m)\u001b[0m \u001b[1;33m>\u001b[0m \u001b[0mself\u001b[0m\u001b[1;33m.\u001b[0m\u001b[0mmaxlen\u001b[0m\u001b[1;33m:\u001b[0m\u001b[1;33m\u001b[0m\u001b[1;33m\u001b[0m\u001b[0m\n\u001b[0m\u001b[0;32m    113\u001b[0m             \u001b[0mself\u001b[0m\u001b[1;33m.\u001b[0m\u001b[0mdel_first\u001b[0m\u001b[1;33m(\u001b[0m\u001b[1;33m)\u001b[0m\u001b[1;33m\u001b[0m\u001b[1;33m\u001b[0m\u001b[0m\n\u001b[0;32m    114\u001b[0m \u001b[1;33m\u001b[0m\u001b[0m\n",
      "\u001b[1;31mAttributeError\u001b[0m: 'PrefBuffer' object has no attribute 'prefs'"
     ]
    }
   ],
   "source": [
    "#pref_buffer.start_thread()\n",
    "\n",
    "import gym\n",
    "import cv2\n",
    "\n",
    "env = gym.make(\"CartPole-v1\")\n",
    "\n",
    "segment = Segment()\n",
    "\n",
    "observation = env.reset()\n",
    "for _ in range(100):\n",
    "    img = env.render(mode='rgb_array') \n",
    "    action = env.action_space.sample() # your agent here (this takes random actions)\n",
    "    observation, reward, done, info = env.step(action)\n",
    "\n",
    "    segment.append(cv2.resize(img, dsize=(300,200)))\n",
    "    \n",
    "    if done:\n",
    "        segment.finalise()\n",
    "        pref_buffer.add_segment(segment)\n",
    "        \n",
    "        segment = Segment()\n",
    "        observation = env.reset()\n",
    "env.close()\n",
    "\n",
    "#pref_buffer.stop_thread()"
   ]
  },
  {
   "cell_type": "code",
   "execution_count": 14,
   "metadata": {},
   "outputs": [
    {
     "data": {
      "text/plain": [
       "2292729986103375002"
      ]
     },
     "execution_count": 14,
     "metadata": {},
     "output_type": "execute_result"
    }
   ],
   "source": [
    "pref_buffer.queue['7c56d28d-a9a0-4cd1-aae3-d71a96fb95b4'][0]"
   ]
  },
  {
   "cell_type": "code",
   "execution_count": 10,
   "metadata": {},
   "outputs": [
    {
     "name": "stdout",
     "output_type": "stream",
     "text": [
      "connected\n",
      "put\n",
      "put\n",
      "put\n",
      "put\n",
      "{}\n",
      "{}\n",
      "{}\n",
      "{}\n",
      "{}\n",
      "{}\n",
      "{'42829197-8c2f-4796-b456-9f9c478970eb': [True]}\n",
      "put\n",
      "{}\n",
      "{}\n",
      "{}\n",
      "{}\n",
      "{}\n"
     ]
    },
    {
     "ename": "KeyboardInterrupt",
     "evalue": "",
     "output_type": "error",
     "traceback": [
      "\u001b[1;31m---------------------------------------------------------------------------\u001b[0m",
      "\u001b[1;31mKeyboardInterrupt\u001b[0m                         Traceback (most recent call last)",
      "\u001b[1;32m<ipython-input-10-6d2b9ff51c16>\u001b[0m in \u001b[0;36m<module>\u001b[1;34m\u001b[0m\n\u001b[1;32m----> 1\u001b[1;33m \u001b[0mpref_buffer\u001b[0m\u001b[1;33m.\u001b[0m\u001b[0mstart_thread\u001b[0m\u001b[1;33m(\u001b[0m\u001b[1;33m)\u001b[0m\u001b[1;33m\u001b[0m\u001b[1;33m\u001b[0m\u001b[0m\n\u001b[0m",
      "\u001b[1;32m<ipython-input-7-44c3dbaa4f93>\u001b[0m in \u001b[0;36mstart_thread\u001b[1;34m(self)\u001b[0m\n\u001b[0;32m     89\u001b[0m         \u001b[0mself\u001b[0m\u001b[1;33m.\u001b[0m\u001b[0mgarner\u001b[0m\u001b[1;33m.\u001b[0m\u001b[0mconnect\u001b[0m\u001b[1;33m(\u001b[0m\u001b[1;33m)\u001b[0m\u001b[1;33m\u001b[0m\u001b[1;33m\u001b[0m\u001b[0m\n\u001b[0;32m     90\u001b[0m         \u001b[1;31m#Thread(target=self.run).start()\u001b[0m\u001b[1;33m\u001b[0m\u001b[1;33m\u001b[0m\u001b[1;33m\u001b[0m\u001b[0m\n\u001b[1;32m---> 91\u001b[1;33m         \u001b[0mself\u001b[0m\u001b[1;33m.\u001b[0m\u001b[0mrun\u001b[0m\u001b[1;33m(\u001b[0m\u001b[1;33m)\u001b[0m\u001b[1;33m\u001b[0m\u001b[1;33m\u001b[0m\u001b[0m\n\u001b[0m\u001b[0;32m     92\u001b[0m \u001b[1;33m\u001b[0m\u001b[0m\n\u001b[0;32m     93\u001b[0m     \u001b[1;32mdef\u001b[0m \u001b[0mstop_thread\u001b[0m\u001b[1;33m(\u001b[0m\u001b[0mself\u001b[0m\u001b[1;33m)\u001b[0m\u001b[1;33m:\u001b[0m\u001b[1;33m\u001b[0m\u001b[1;33m\u001b[0m\u001b[0m\n",
      "\u001b[1;32m<ipython-input-7-44c3dbaa4f93>\u001b[0m in \u001b[0;36mrun\u001b[1;34m(self)\u001b[0m\n\u001b[0;32m     81\u001b[0m     \u001b[1;32mdef\u001b[0m \u001b[0mrun\u001b[0m\u001b[1;33m(\u001b[0m\u001b[0mself\u001b[0m\u001b[1;33m)\u001b[0m\u001b[1;33m:\u001b[0m\u001b[1;33m\u001b[0m\u001b[1;33m\u001b[0m\u001b[0m\n\u001b[0;32m     82\u001b[0m         \u001b[1;32mwhile\u001b[0m \u001b[1;32mnot\u001b[0m \u001b[0mself\u001b[0m\u001b[1;33m.\u001b[0m\u001b[0mstop_run\u001b[0m\u001b[1;33m:\u001b[0m\u001b[1;33m\u001b[0m\u001b[1;33m\u001b[0m\u001b[0m\n\u001b[1;32m---> 83\u001b[1;33m             \u001b[0mtime\u001b[0m\u001b[1;33m.\u001b[0m\u001b[0msleep\u001b[0m\u001b[1;33m(\u001b[0m\u001b[1;36m1\u001b[0m\u001b[1;33m)\u001b[0m\u001b[1;33m\u001b[0m\u001b[1;33m\u001b[0m\u001b[0m\n\u001b[0m\u001b[0;32m     84\u001b[0m             \u001b[0mself\u001b[0m\u001b[1;33m.\u001b[0m\u001b[0mput_prefs\u001b[0m\u001b[1;33m(\u001b[0m\u001b[1;33m)\u001b[0m\u001b[1;33m\u001b[0m\u001b[1;33m\u001b[0m\u001b[0m\n\u001b[0;32m     85\u001b[0m             \u001b[0mself\u001b[0m\u001b[1;33m.\u001b[0m\u001b[0mrecv_prefs\u001b[0m\u001b[1;33m(\u001b[0m\u001b[1;33m)\u001b[0m\u001b[1;33m\u001b[0m\u001b[1;33m\u001b[0m\u001b[0m\n",
      "\u001b[1;31mKeyboardInterrupt\u001b[0m: "
     ]
    }
   ],
   "source": [
    "pref_buffer.start_thread()"
   ]
  },
  {
   "cell_type": "code",
   "execution_count": 17,
   "metadata": {},
   "outputs": [],
   "source": [
    "len(pref_db_train)"
   ]
  },
  {
   "cell_type": "code",
   "execution_count": 18,
   "metadata": {},
   "outputs": [],
   "source": [
    "pref_db_train.prefs"
   ]
  },
  {
   "cell_type": "code",
   "execution_count": 23,
   "metadata": {},
   "outputs": [
    {
     "data": {
      "text/plain": [
       "(21, 200, 300, 3)"
      ]
     },
     "execution_count": 23,
     "metadata": {},
     "output_type": "execute_result"
    }
   ],
   "source": [
    "np.array(pref_db_train.segments[-8823204979868584136]).shape"
   ]
  },
  {
   "cell_type": "code",
   "execution_count": 26,
   "metadata": {},
   "outputs": [],
   "source": [
    "#returned = g.get_backlog()\n",
    "import matplotlib.pyplot as plt\n",
    "\n",
    "a = []\n",
    "b = []\n",
    "\n",
    "for uuid, val in returned.items():\n",
    "\n",
    "    plt.imshow(val[0][0])\n",
    "    break\n",
    "    "
   ]
  },
  {
   "cell_type": "code",
   "execution_count": 27,
   "metadata": {},
   "outputs": [
    {
     "data": {
      "text/plain": [
       "<matplotlib.image.AxesImage at 0x1679e0b8f48>"
      ]
     },
     "execution_count": 27,
     "metadata": {},
     "output_type": "execute_result"
    },
    {
     "data": {
      "image/png": "[encoded data removed]",
      "text/plain": [
       "<Figure size 432x288 with 1 Axes>"
      ]
     },
     "metadata": {
      "needs_background": "light"
     },
     "output_type": "display_data"
    }
   ],
   "source": [
    "plt.imshow(val[0][0])"
   ]
  },
  {
   "cell_type": "code",
   "execution_count": 39,
   "metadata": {},
   "outputs": [
    {
     "data": {
      "text/plain": [
       "-4014994444739598383"
      ]
     },
     "execution_count": 39,
     "metadata": {},
     "output_type": "execute_result"
    }
   ],
   "source": [
    "list(pref_buffer.segments.keys())[0]"
   ]
  },
  {
   "cell_type": "code",
   "execution_count": 12,
   "metadata": {},
   "outputs": [
    {
     "name": "stdout",
     "output_type": "stream",
     "text": [
      "f1f75e89-db70-4302-bdcd-7d028ef5d97d\n"
     ]
    }
   ],
   "source": [
    "for key, val in b.items():\n",
    "    "
   ]
  },
  {
   "cell_type": "code",
   "execution_count": 7,
   "metadata": {},
   "outputs": [
    {
     "data": {
      "text/plain": [
       "{}"
      ]
     },
     "execution_count": 7,
     "metadata": {},
     "output_type": "execute_result"
    }
   ],
   "source": [
    "b = {'f1f75e89-db70-4302-bdcd-7d028ef5d97d': [True]}"
   ]
  },
  {
   "cell_type": "code",
   "execution_count": 17,
   "metadata": {},
   "outputs": [
    {
     "ename": "AttributeError",
     "evalue": "module 'gym' has no attribute 'close'",
     "output_type": "error",
     "traceback": [
      "\u001b[0;31m---------------------------------------------------------------------------\u001b[0m",
      "\u001b[0;31mAttributeError\u001b[0m                            Traceback (most recent call last)",
      "\u001b[0;32m<ipython-input-17-fe28fae2995c>\u001b[0m in \u001b[0;36m<module>\u001b[0;34m\u001b[0m\n\u001b[0;32m----> 1\u001b[0;31m \u001b[0mgym\u001b[0m\u001b[0;34m.\u001b[0m\u001b[0mclose\u001b[0m\u001b[0;34m(\u001b[0m\u001b[0;34m)\u001b[0m\u001b[0;34m\u001b[0m\u001b[0;34m\u001b[0m\u001b[0m\n\u001b[0m",
      "\u001b[0;31mAttributeError\u001b[0m: module 'gym' has no attribute 'close'"
     ]
    }
   ],
   "source": [
    "gym.close()"
   ]
  },
  {
   "cell_type": "code",
   "execution_count": 16,
   "metadata": {},
   "outputs": [
    {
     "data": {
      "text/plain": [
       "'a74a6daa-928e-429e-90b4-98771d39c732'"
      ]
     },
     "execution_count": 16,
     "metadata": {},
     "output_type": "execute_result"
    }
   ],
   "source": [
    "g.put([np.array(segment.frames), np.array(segment.frames)], False)"
   ]
  },
  {
   "cell_type": "code",
   "execution_count": 17,
   "metadata": {},
   "outputs": [],
   "source": [
    "g.storage.download_file('protected/eu-west-2:7cb8b3ea-737d-4479-91b7-103ca54cf28d/77210b95-1dd7-49f6-92f9-23310a80c51a.gif', 'download.gif')"
   ]
  },
  {
   "cell_type": "code",
   "execution_count": null,
   "metadata": {},
   "outputs": [],
   "source": [
    "#out['4cd7869b-0abc-499c-91d0-d36b4a48c004'][0][0][0,:,:,3].shape"
   ]
  }
 ],
 "metadata": {
  "kernelspec": {
   "display_name": "Python 3",
   "language": "python",
   "name": "python3"
  },
  "language_info": {
   "codemirror_mode": {
    "name": "ipython",
    "version": 3
   },
   "file_extension": ".py",
   "mimetype": "text/x-python",
   "name": "python",
   "nbconvert_exporter": "python",
   "pygments_lexer": "ipython3",
   "version": "3.7.4"
  }
 },
 "nbformat": 4,
 "nbformat_minor": 4
}
