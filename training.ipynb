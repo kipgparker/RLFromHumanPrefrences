{
 "cells": [
  {
   "cell_type": "code",
   "execution_count": 1,
   "metadata": {},
   "outputs": [
    {
     "name": "stderr",
     "output_type": "stream",
     "text": [
      "/home/kip/anaconda3/lib/python3.7/site-packages/ipykernel_launcher.py:6: DeprecationWarning: Using or importing the ABCs from 'collections' instead of from 'collections.abc' is deprecated since Python 3.3,and in 3.9 it will stop working\n",
      "  \n"
     ]
    }
   ],
   "source": [
    "from torch.utils.data import Dataset\n",
    "import torch\n",
    "import numpy as np\n",
    "import pickle\n",
    "import zlib\n",
    "from collections import MutableMapping\n",
    "\n",
    "class CompressedDict(MutableMapping):\n",
    "\n",
    "    def __init__(self):\n",
    "        self.store = dict()\n",
    "\n",
    "    def __getitem__(self, key):\n",
    "        return pickle.loads(zlib.decompress(self.store[key]))\n",
    "\n",
    "    def __setitem__(self, key, value):\n",
    "        self.store[key] = zlib.compress(pickle.dumps(value))\n",
    "\n",
    "    def __delitem__(self, key):\n",
    "        del self.store[key]\n",
    "\n",
    "    def __iter__(self):\n",
    "        return iter(self.store)\n",
    "\n",
    "    def __len__(self):\n",
    "        return len(self.store)\n",
    "\n",
    "    def __keytransform__(self, key):\n",
    "        return key\n",
    "\n",
    "class PrefDB(Dataset):\n",
    "    \"\"\"\n",
    "    A circular database of preferences about pairs of segments.\n",
    "    For each preference, we store the preference itself\n",
    "    (mu in the paper) and the two segments the preference refers to.\n",
    "    Segments are stored with deduplication - so that if multiple\n",
    "    preferences refer to the same segment, the segment is only stored once.\n",
    "    \"\"\"\n",
    "\n",
    "    def __init__(self, maxlen):\n",
    "        self.segments = CompressedDict()\n",
    "        self.seg_refs = {}\n",
    "        self.prefs = []\n",
    "        self.maxlen = maxlen\n",
    "\n",
    "    def append(self, s1, s2, pref):\n",
    "        k1 = hash(np.array(s1).tobytes())\n",
    "        k2 = hash(np.array(s2).tobytes())\n",
    "\n",
    "        for k, s in zip([k1, k2], [s1, s2]):\n",
    "            if k not in self.segments.keys():\n",
    "                self.segments[k] = s\n",
    "                self.seg_refs[k] = 1\n",
    "            else:\n",
    "                self.seg_refs[k] += 1\n",
    "\n",
    "        tup = (k1, k2, pref)\n",
    "        self.prefs.append(tup)\n",
    "\n",
    "        if len(self.prefs) > self.maxlen:\n",
    "            self.del_first()\n",
    "\n",
    "    def del_first(self):\n",
    "        self.del_pref(0)\n",
    "\n",
    "    def del_pref(self, n):\n",
    "        if n >= len(self.prefs):\n",
    "            raise IndexError(\"Preference {} doesn't exist\".format(n))\n",
    "        k1, k2, _ = self.prefs[n]\n",
    "        for k in [k1, k2]:\n",
    "            if self.seg_refs[k] == 1:\n",
    "                del self.segments[k]\n",
    "                del self.seg_refs[k]\n",
    "            else:\n",
    "                self.seg_refs[k] -= 1\n",
    "        del self.prefs[n]\n",
    "\n",
    "    def __len__(self):\n",
    "        return len(self.prefs)\n",
    "    \n",
    "    def __getitem__(self, idx):\n",
    "        if torch.is_tensor(idx):\n",
    "            idx = idx.tolist()\n",
    "        \n",
    "        s1s = s2s = prefs = []\n",
    "        \n",
    "        k1, k2, pref = self.prefs[idx]\n",
    "\n",
    "        return self.segments[k1], self.segments[k2], pref"
   ]
  },
  {
   "cell_type": "code",
   "execution_count": 46,
   "metadata": {},
   "outputs": [],
   "source": [
    "db = PrefDB(maxlen=100)\n",
    "for i in range(100):\n",
    "    db.append(np.zeros((32, 84, 84, 3)), np.zeros((32, 84, 84, 3)), 0)"
   ]
  },
  {
   "cell_type": "code",
   "execution_count": 49,
   "metadata": {},
   "outputs": [
    {
     "name": "stdout",
     "output_type": "stream",
     "text": [
      "b\n",
      "b\n",
      "b\n",
      "b\n",
      "b\n",
      "b\n",
      "b\n",
      "b\n",
      "b\n",
      "b\n",
      "b\n",
      "b\n",
      "b\n"
     ]
    }
   ],
   "source": [
    "val_loader = torch.utils.data.DataLoader(\n",
    "    db,\n",
    "    batch_size=8,\n",
    "    shuffle=False,\n",
    "    num_workers=8\n",
    ")\n",
    "\n",
    "for s1s, s2s, prefs in val_loader:\n",
    "    #print(np.array(s1s).shape)\n",
    "    print('b')"
   ]
  },
  {
   "cell_type": "code",
   "execution_count": 15,
   "metadata": {},
   "outputs": [
    {
     "name": "stdout",
     "output_type": "stream",
     "text": [
      "tensor(0.4465)\n",
      "tensor(0.4465)\n"
     ]
    }
   ],
   "source": [
    "a = torch.rand((5, 16, 1))\n",
    "b = a.view(-1,1)\n",
    "\n",
    "c = b.view(5,16, -1)\n",
    "\n",
    "print(a[3, 11, 0])\n",
    "print(c[3, 11, 0])"
   ]
  },
  {
   "cell_type": "code",
   "execution_count": 55,
   "metadata": {},
   "outputs": [],
   "source": [
    "torch.zeros((5, 16, 1)).view(n_,1).shape"
   ]
  },
  {
   "cell_type": "code",
   "execution_count": 56,
   "metadata": {},
   "outputs": [
    {
     "ename": "TypeError",
     "evalue": "forward() missing 3 required positional arguments: 'self', 's1s', and 's2s'",
     "output_type": "error",
     "traceback": [
      "\u001b[0;31m---------------------------------------------------------------------------\u001b[0m",
      "\u001b[0;31mTypeError\u001b[0m                                 Traceback (most recent call last)",
      "\u001b[0;32m<ipython-input-56-a1338edc131b>\u001b[0m in \u001b[0;36m<module>\u001b[0;34m\u001b[0m\n\u001b[0;32m----> 1\u001b[0;31m \u001b[0mRewardPredictorEnsemble\u001b[0m\u001b[0;34m.\u001b[0m\u001b[0mforward\u001b[0m\u001b[0;34m(\u001b[0m\u001b[0;34m)\u001b[0m\u001b[0;34m\u001b[0m\u001b[0;34m\u001b[0m\u001b[0m\n\u001b[0m",
      "\u001b[0;31mTypeError\u001b[0m: forward() missing 3 required positional arguments: 'self', 's1s', and 's2s'"
     ]
    }
   ],
   "source": [
    "reward_ensemble = RewardPredictorEnsemble"
   ]
  },
  {
   "cell_type": "code",
   "execution_count": 2,
   "metadata": {},
   "outputs": [
    {
     "name": "stdout",
     "output_type": "stream",
     "text": [
      "Logging to /tmp/openai-2020-11-19-19-59-45-861665\n",
      "Creating dummy env object to get spaces\n",
      "ShmemVecEnv worker: got KeyboardInterrupt\n",
      "ShmemVecEnv worker: got KeyboardInterrupt\n",
      "ShmemVecEnv worker: got KeyboardInterrupt\n",
      "ShmemVecEnv worker: got KeyboardInterrupt\n"
     ]
    }
   ],
   "source": [
    "from a2c_ppo_acktr.envs import make_vec_envs\n",
    "\n",
    "\n",
    "device = torch.device(\"cuda:0\" if torch.cuda.is_available() else \"cpu\")\n",
    "\n",
    "envs = make_vec_envs('PongNoFrameskip-v4', 42, 4,\n",
    "                     0.99, '/tmp/gym/', device, False)\n"
   ]
  },
  {
   "cell_type": "code",
   "execution_count": 3,
   "metadata": {},
   "outputs": [
    {
     "data": {
      "text/plain": [
       "(4, 84, 84)"
      ]
     },
     "execution_count": 3,
     "metadata": {},
     "output_type": "execute_result"
    }
   ],
   "source": [
    "rollouts.rewards"
   ]
  },
  {
   "cell_type": "code",
   "execution_count": 7,
   "metadata": {},
   "outputs": [],
   "source": [
    "b = envs.observation_space.shape"
   ]
  },
  {
   "cell_type": "code",
   "execution_count": 5,
   "metadata": {},
   "outputs": [],
   "source": [
    "b = torch.zeros((4,12,84,84))"
   ]
  },
  {
   "cell_type": "code",
   "execution_count": 9,
   "metadata": {},
   "outputs": [
    {
     "data": {
      "text/plain": [
       "(1, (84, 84))"
      ]
     },
     "execution_count": 9,
     "metadata": {},
     "output_type": "execute_result"
    }
   ],
   "source": [
    "a = (1, b[1:])\n",
    "a"
   ]
  },
  {
   "cell_type": "code",
   "execution_count": null,
   "metadata": {},
   "outputs": [],
   "source": []
  }
 ],
 "metadata": {
  "kernelspec": {
   "display_name": "Python 3",
   "language": "python",
   "name": "python3"
  },
  "language_info": {
   "codemirror_mode": {
    "name": "ipython",
    "version": 3
   },
   "file_extension": ".py",
   "mimetype": "text/x-python",
   "name": "python",
   "nbconvert_exporter": "python",
   "pygments_lexer": "ipython3",
   "version": "3.7.6"
  }
 },
 "nbformat": 4,
 "nbformat_minor": 4
}
