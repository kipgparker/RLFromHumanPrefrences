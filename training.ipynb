{
 "cells": [
  {
   "cell_type": "code",
   "execution_count": 7,
   "metadata": {},
   "outputs": [],
   "source": [
    "from torch.utils.data import Dataset\n",
    "import torch\n",
    "import numpy\n",
    "\n",
    "class PrefDB(Dataset):\n",
    "    \"\"\"\n",
    "    A circular database of preferences about pairs of segments.\n",
    "    For each preference, we store the preference itself\n",
    "    (mu in the paper) and the two segments the preference refers to.\n",
    "    Segments are stored with deduplication - so that if multiple\n",
    "    preferences refer to the same segment, the segment is only stored once.\n",
    "    \"\"\"\n",
    "\n",
    "    def __init__(self, maxlen):\n",
    "        self.segments = CompressedDict()\n",
    "        self.seg_refs = {}\n",
    "        self.prefs = []\n",
    "        self.maxlen = maxlen\n",
    "\n",
    "    def append(self, s1, s2, pref):\n",
    "        k1 = hash(np.array(s1).tobytes())\n",
    "        k2 = hash(np.array(s2).tobytes())\n",
    "\n",
    "        for k, s in zip([k1, k2], [s1, s2]):\n",
    "            if k not in self.segments.keys():\n",
    "                self.segments[k] = s\n",
    "                self.seg_refs[k] = 1\n",
    "            else:\n",
    "                self.seg_refs[k] += 1\n",
    "\n",
    "        tup = (k1, k2, pref)\n",
    "        self.prefs.append(tup)\n",
    "\n",
    "        if len(self.prefs) > self.maxlen:\n",
    "            self.del_first()\n",
    "\n",
    "    def del_first(self):\n",
    "        self.del_pref(0)\n",
    "\n",
    "    def del_pref(self, n):\n",
    "        if n >= len(self.prefs):\n",
    "            raise IndexError(\"Preference {} doesn't exist\".format(n))\n",
    "        k1, k2, _ = self.prefs[n]\n",
    "        for k in [k1, k2]:\n",
    "            if self.seg_refs[k] == 1:\n",
    "                del self.segments[k]\n",
    "                del self.seg_refs[k]\n",
    "            else:\n",
    "                self.seg_refs[k] -= 1\n",
    "        del self.prefs[n]\n",
    "\n",
    "    def __len__(self):\n",
    "        return len(self.prefs)\n",
    "    \n",
    "    def __getitem__(self, idx):\n",
    "        if torch.is_tensor(idx):\n",
    "            idx = idx.tolist()\n",
    "            "
   ]
  },
  {
   "cell_type": "code",
   "execution_count": 12,
   "metadata": {},
   "outputs": [],
   "source": [
    "db = PrefDB(maxlen=100)\n",
    "for i in range(100):\n",
    "    db.append(np.zeros((32, 84, 84, 3)), np.zeros((32, 84, 84, 3)), 0)\n",
    "    \n",
    "\n",
    "start_steps = self.n_steps\n",
    "start_time = time.time()\n",
    "\n",
    "#for batch in db\n",
    "    train_step(batch, prefs_train)\n",
    "    self.n_steps += 1\n",
    "        if self.n_steps and self.n_steps % val_interval == 0:\n",
    "            self.val_step(prefs_val)\n",
    "            \n",
    "        end_time = time.time()\n",
    "        end_steps = self.n_steps\n",
    "        rate = (end_steps - start_steps) / (end_time - start_time)\n",
    "        #log rate (steps per second)"
   ]
  },
  {
   "cell_type": "code",
   "execution_count": 13,
   "metadata": {},
   "outputs": [
    {
     "data": {
      "text/plain": [
       "100"
      ]
     },
     "execution_count": 13,
     "metadata": {},
     "output_type": "execute_result"
    }
   ],
   "source": [
    "len(db)"
   ]
  },
  {
   "cell_type": "code",
   "execution_count": null,
   "metadata": {},
   "outputs": [],
   "source": []
  }
 ],
 "metadata": {
  "kernelspec": {
   "display_name": "Python 3",
   "language": "python",
   "name": "python3"
  },
  "language_info": {
   "codemirror_mode": {
    "name": "ipython",
    "version": 3
   },
   "file_extension": ".py",
   "mimetype": "text/x-python",
   "name": "python",
   "nbconvert_exporter": "python",
   "pygments_lexer": "ipython3",
   "version": "3.7.4"
  }
 },
 "nbformat": 4,
 "nbformat_minor": 4
}
