{
 "cells": [
  {
   "cell_type": "code",
   "execution_count": 1,
   "metadata": {},
   "outputs": [
    {
     "name": "stderr",
     "output_type": "stream",
     "text": [
      "/home/kip/anaconda3/lib/python3.7/site-packages/ipykernel_launcher.py:5: DeprecationWarning: Using or importing the ABCs from 'collections' instead of from 'collections.abc' is deprecated since Python 3.3,and in 3.9 it will stop working\n",
      "  \"\"\"\n"
     ]
    }
   ],
   "source": [
    "from torch.utils.data import Dataset, Subset\n",
    "from random import shuffle\n",
    "from itertools import combinations\n",
    "from threading import Lock, Thread\n",
    "from collections import MutableMapping\n",
    "import time\n",
    "import pickle\n",
    "import zlib\n",
    "import numpy as np\n",
    "\n",
    "import garner as g"
   ]
  },
  {
   "cell_type": "code",
   "execution_count": 2,
   "metadata": {},
   "outputs": [],
   "source": [
    "class Segment:\n",
    "    \"\"\"\n",
    "    A short recording of agent's behaviour in the environment,\n",
    "    consisting of a number of video frames and the rewards it received\n",
    "    during those frames.\n",
    "    \"\"\"\n",
    "\n",
    "    def __init__(self):\n",
    "        self.frames = []\n",
    "        self.rewards = []\n",
    "        self.hash = None\n",
    "\n",
    "    def append(self, frame, reward = None):\n",
    "        self.frames.append(frame)\n",
    "        self.rewards.append(reward)\n",
    "\n",
    "    def finalise(self, seg_id=None):\n",
    "        if seg_id is not None:\n",
    "            self.hash = seg_id\n",
    "        else:\n",
    "            # This looks expensive, but don't worry -\n",
    "            # it only takes about 0.5 ms.\n",
    "            self.hash = hash(np.array(self.frames).tobytes())\n",
    "\n",
    "    def __len__(self):\n",
    "        return len(self.frames)\n",
    "    \n",
    "class CompressedDict(MutableMapping):\n",
    "\n",
    "    def __init__(self):\n",
    "        self.store = dict()\n",
    "\n",
    "    def __getitem__(self, key):\n",
    "        return pickle.loads(zlib.decompress(self.store[key]))\n",
    "\n",
    "    def __setitem__(self, key, value):\n",
    "        self.store[key] = zlib.compress(pickle.dumps(value))\n",
    "\n",
    "    def __delitem__(self, key):\n",
    "        del self.store[key]\n",
    "\n",
    "    def __iter__(self):\n",
    "        return iter(self.store)\n",
    "\n",
    "    def __len__(self):\n",
    "        return len(self.store)\n",
    "\n",
    "    def __keytransform__(self, key):\n",
    "        return key\n",
    "    \n",
    "class PrefDB(Dataset):\n",
    "    \"\"\"\n",
    "    A circular database of preferences about pairs of segments.\n",
    "    For each preference, we store the preference itself\n",
    "    (mu in the paper) and the two segments the preference refers to.\n",
    "    Segments are stored with deduplication - so that if multiple\n",
    "    preferences refer to the same segment, the segment is only stored once.\n",
    "    \"\"\"\n",
    "\n",
    "    def __init__(self, maxlen):\n",
    "        self.segments = CompressedDict()\n",
    "        self.seg_refs = {}\n",
    "        self.prefs = []\n",
    "        self.maxlen = maxlen\n",
    "\n",
    "    def append(self, s1, s2, pref):\n",
    "        k1 = hash(np.array(s1).tobytes())\n",
    "        k2 = hash(np.array(s2).tobytes())\n",
    "\n",
    "        for k, s in zip([k1, k2], [s1, s2]):\n",
    "            if k not in self.segments.keys():\n",
    "                self.segments[k] = s\n",
    "                self.seg_refs[k] = 1\n",
    "            else:\n",
    "                self.seg_refs[k] += 1\n",
    "\n",
    "        tup = (k1, k2, pref)\n",
    "        self.prefs.append(tup)\n",
    "\n",
    "        if len(self.prefs) > self.maxlen:\n",
    "            self.del_first()\n",
    "\n",
    "    def del_first(self):\n",
    "        self.del_pref(0)\n",
    "\n",
    "    def del_pref(self, n):\n",
    "        if n >= len(self.prefs):\n",
    "            raise IndexError(\"Preference {} doesn't exist\".format(n))\n",
    "        k1, k2, _ = self.prefs[n]\n",
    "        for k in [k1, k2]:\n",
    "            if self.seg_refs[k] == 1:\n",
    "                del self.segments[k]\n",
    "                del self.seg_refs[k]\n",
    "            else:\n",
    "                self.seg_refs[k] -= 1\n",
    "        del self.prefs[n]\n",
    "\n",
    "    def __len__(self):\n",
    "        return len(self.prefs)"
   ]
  },
  {
   "cell_type": "code",
   "execution_count": 44,
   "metadata": {},
   "outputs": [],
   "source": [
    "\n",
    "        \n",
    "\n",
    "class PrefBuffer:\n",
    "    def __init__(self, garner, db_train, db_val, maxlen = 1000, maxqlen = 20):\n",
    "        \n",
    "        self.garner = garner\n",
    "        self.train_db = db_train\n",
    "        self.val_db = db_val\n",
    "        self.val_fraction = self.val_db.maxlen / (self.val_db.maxlen +\n",
    "                                     self.train_db.maxlen)\n",
    "        \n",
    "        self.segments = CompressedDict()\n",
    "        self.seg_refs = {}\n",
    "        \n",
    "        self.tested_pairs = set()\n",
    "        self.queue = {}\n",
    "        self.maxlen = maxlen\n",
    "        self.maxqlen = maxqlen\n",
    "        self.lock = Lock()\n",
    "        self.stop_run = False\n",
    "        \n",
    "        returned = garner.get_backlog(limit=maxlen)\n",
    "        \n",
    "        for uuid, val in returned.items():\n",
    "            \n",
    "            self.lock.acquire(blocking=True)\n",
    "            \n",
    "            if np.random.rand() < self.val_fraction:\n",
    "                self.val_db.append(val[0][0][:,:,:,0:3], val[1], 1 if val[1] else 0)\n",
    "            else:\n",
    "                self.train_db.append(val[0][0][:,:,:,0:3], val[1], 1 if val[1] else 0)\n",
    "                \n",
    "            self.lock.release()\n",
    "        \n",
    "        \n",
    "    def select_prefs(self):\n",
    "        \n",
    "        \n",
    "        segment_idxs = list(range(len(self.segments)))\n",
    "        shuffle(segment_idxs)\n",
    "        possible_pairs = combinations(segment_idxs, 2)\n",
    "        \n",
    "        keys = list(pref_buffer.segments.keys())\n",
    "        \n",
    "        for i1, i2 in possible_pairs: \n",
    "            s1, s2 = self.segments[keys[i1]], self.segments[keys[i2]]\n",
    "            if ((s1.hash, s2.hash) not in self.tested_pairs) and \\\n",
    "               ((s2.hash, s1.hash) not in self.tested_pairs):\n",
    "                self.tested_pairs.add((s1.hash, s2.hash))\n",
    "                self.tested_pairs.add((s2.hash, s1.hash))\n",
    "                return s1.hash, s2.hash\n",
    "        \n",
    "        \n",
    "    def recv_prefs(self):\n",
    "        result = self.garner.query()\n",
    "        if len(result) != 0:\n",
    "            for key, value in result:\n",
    "                s1, s2 = queue[key]\n",
    "                if np.random.rand() < self.val_fraction:\n",
    "                    self.val_db.append(s1, s2, 1 if value else 0)\n",
    "                else:\n",
    "                    self.train_db.append(s1, s2, 1 if value else 0)\n",
    "            del queue[key]\n",
    "            \n",
    "    def put_prefs(self):\n",
    "        #try:\n",
    "        while len(self.queue) <= self.maxqlen:\n",
    "            print('put')\n",
    "            k1, k2 = self.select_prefs()\n",
    "            pref_id = self.garner.put(self.segments[k1].frames, self.segments[k1].frames)\n",
    "            self.queue[pref_id] = (k1, k2)\n",
    "        #except:\n",
    "        #    print('No prefs to compare')\n",
    "        \n",
    "\n",
    "            \n",
    "    def run(self):\n",
    "        while not self.stop_run:\n",
    "            time.sleep(1)\n",
    "            self.put_prefs()\n",
    "            self.recv_prefs()\n",
    "            \n",
    "    def start_thread(self):\n",
    "        self.stop_run = False\n",
    "        self.garner.connect()\n",
    "        #Thread(target=self.run).start()\n",
    "        self.run()\n",
    "        \n",
    "    def stop_thread(self):\n",
    "        self.garner.disconnect()\n",
    "        self.stop_recv = True\n",
    "    \n",
    "    def get_dbs(self):\n",
    "        self.lock.acquire(blocking=True)\n",
    "        train_copy = copy.deepcopy(self.train_db)\n",
    "        val_copy = copy.deepcopy(self.val_db)\n",
    "        self.lock.release()\n",
    "        return train_copy, val_copy\n",
    "    \n",
    "    def add_segment(self, segment):\n",
    "        self.segments[segment.hash] = segment\n",
    "        \n",
    "        if len(self.segments) > self.maxlen:\n",
    "             del self.prefs[0]"
   ]
  },
  {
   "cell_type": "code",
   "execution_count": 50,
   "metadata": {},
   "outputs": [
    {
     "name": "stdout",
     "output_type": "stream",
     "text": [
      "Enter Password\n"
     ]
    },
    {
     "name": "stdin",
     "output_type": "stream",
     "text": [
      "Password: ·········\n"
     ]
    },
    {
     "name": "stdout",
     "output_type": "stream",
     "text": [
      "Authenticated\n"
     ]
    }
   ],
   "source": [
    "g.login('kipgparker@gmail.com')\n",
    "#g.select_pool('Deep reinforcement learning from human prefrences')\n",
    "\n",
    "\n",
    "pref_db_train = PrefDB(maxlen=20000)\n",
    "pref_db_val = PrefDB(maxlen=5000)\n",
    "pref_buffer = PrefBuffer(garner = g, db_train=pref_db_train,\n",
    "                 db_val=pref_db_val)\n",
    "\n"
   ]
  },
  {
   "cell_type": "code",
   "execution_count": 46,
   "metadata": {},
   "outputs": [],
   "source": [
    "#pref_buffer.start_thread()\n",
    "\n",
    "import gym\n",
    "import cv2\n",
    "\n",
    "env = gym.make(\"CartPole-v1\")\n",
    "\n",
    "observation = env.reset()\n",
    "for _ in range(1000):\n",
    "    img = env.render(mode='rgb_array') \n",
    "    action = env.action_space.sample() # your agent here (this takes random actions)\n",
    "    observation, reward, done, info = env.step(action)\n",
    "\n",
    "    segment.append(cv2.resize(img, dsize=(300,200)))\n",
    "    \n",
    "    if done:\n",
    "        segment.finalise()\n",
    "        pref_buffer.add_segment(segment)\n",
    "        \n",
    "        segment = Segment()\n",
    "        observation = env.reset()\n",
    "env.close()\n",
    "\n",
    "#pref_buffer.stop_thread()"
   ]
  },
  {
   "cell_type": "code",
   "execution_count": 47,
   "metadata": {},
   "outputs": [
    {
     "name": "stdout",
     "output_type": "stream",
     "text": [
      "connected\n",
      "put\n",
      "put\n",
      "put\n",
      "put\n",
      "put\n",
      "put\n",
      "put\n",
      "put\n",
      "put\n",
      "put\n",
      "put\n",
      "put\n",
      "put\n",
      "put\n",
      "put\n",
      "put\n",
      "put\n",
      "put\n",
      "put\n",
      "put\n",
      "put\n"
     ]
    },
    {
     "ename": "KeyboardInterrupt",
     "evalue": "",
     "output_type": "error",
     "traceback": [
      "\u001b[0;31m---------------------------------------------------------------------------\u001b[0m",
      "\u001b[0;31mKeyboardInterrupt\u001b[0m                         Traceback (most recent call last)",
      "\u001b[0;32m<ipython-input-47-6d2b9ff51c16>\u001b[0m in \u001b[0;36m<module>\u001b[0;34m\u001b[0m\n\u001b[0;32m----> 1\u001b[0;31m \u001b[0mpref_buffer\u001b[0m\u001b[0;34m.\u001b[0m\u001b[0mstart_thread\u001b[0m\u001b[0;34m(\u001b[0m\u001b[0;34m)\u001b[0m\u001b[0;34m\u001b[0m\u001b[0;34m\u001b[0m\u001b[0m\n\u001b[0m",
      "\u001b[0;32m<ipython-input-44-017e6f666aad>\u001b[0m in \u001b[0;36mstart_thread\u001b[0;34m(self)\u001b[0m\n\u001b[1;32m     83\u001b[0m         \u001b[0mself\u001b[0m\u001b[0;34m.\u001b[0m\u001b[0mgarner\u001b[0m\u001b[0;34m.\u001b[0m\u001b[0mconnect\u001b[0m\u001b[0;34m(\u001b[0m\u001b[0;34m)\u001b[0m\u001b[0;34m\u001b[0m\u001b[0;34m\u001b[0m\u001b[0m\n\u001b[1;32m     84\u001b[0m         \u001b[0;31m#Thread(target=self.run).start()\u001b[0m\u001b[0;34m\u001b[0m\u001b[0;34m\u001b[0m\u001b[0;34m\u001b[0m\u001b[0m\n\u001b[0;32m---> 85\u001b[0;31m         \u001b[0mself\u001b[0m\u001b[0;34m.\u001b[0m\u001b[0mrun\u001b[0m\u001b[0;34m(\u001b[0m\u001b[0;34m)\u001b[0m\u001b[0;34m\u001b[0m\u001b[0;34m\u001b[0m\u001b[0m\n\u001b[0m\u001b[1;32m     86\u001b[0m \u001b[0;34m\u001b[0m\u001b[0m\n\u001b[1;32m     87\u001b[0m     \u001b[0;32mdef\u001b[0m \u001b[0mstop_thread\u001b[0m\u001b[0;34m(\u001b[0m\u001b[0mself\u001b[0m\u001b[0;34m)\u001b[0m\u001b[0;34m:\u001b[0m\u001b[0;34m\u001b[0m\u001b[0;34m\u001b[0m\u001b[0m\n",
      "\u001b[0;32m<ipython-input-44-017e6f666aad>\u001b[0m in \u001b[0;36mrun\u001b[0;34m(self)\u001b[0m\n\u001b[1;32m     75\u001b[0m     \u001b[0;32mdef\u001b[0m \u001b[0mrun\u001b[0m\u001b[0;34m(\u001b[0m\u001b[0mself\u001b[0m\u001b[0;34m)\u001b[0m\u001b[0;34m:\u001b[0m\u001b[0;34m\u001b[0m\u001b[0;34m\u001b[0m\u001b[0m\n\u001b[1;32m     76\u001b[0m         \u001b[0;32mwhile\u001b[0m \u001b[0;32mnot\u001b[0m \u001b[0mself\u001b[0m\u001b[0;34m.\u001b[0m\u001b[0mstop_run\u001b[0m\u001b[0;34m:\u001b[0m\u001b[0;34m\u001b[0m\u001b[0;34m\u001b[0m\u001b[0m\n\u001b[0;32m---> 77\u001b[0;31m             \u001b[0mtime\u001b[0m\u001b[0;34m.\u001b[0m\u001b[0msleep\u001b[0m\u001b[0;34m(\u001b[0m\u001b[0;36m1\u001b[0m\u001b[0;34m)\u001b[0m\u001b[0;34m\u001b[0m\u001b[0;34m\u001b[0m\u001b[0m\n\u001b[0m\u001b[1;32m     78\u001b[0m             \u001b[0mself\u001b[0m\u001b[0;34m.\u001b[0m\u001b[0mput_prefs\u001b[0m\u001b[0;34m(\u001b[0m\u001b[0;34m)\u001b[0m\u001b[0;34m\u001b[0m\u001b[0;34m\u001b[0m\u001b[0m\n\u001b[1;32m     79\u001b[0m             \u001b[0mself\u001b[0m\u001b[0;34m.\u001b[0m\u001b[0mrecv_prefs\u001b[0m\u001b[0;34m(\u001b[0m\u001b[0;34m)\u001b[0m\u001b[0;34m\u001b[0m\u001b[0;34m\u001b[0m\u001b[0m\n",
      "\u001b[0;31mKeyboardInterrupt\u001b[0m: "
     ]
    }
   ],
   "source": [
    "pref_buffer.start_thread()"
   ]
  },
  {
   "cell_type": "code",
   "execution_count": 23,
   "metadata": {},
   "outputs": [],
   "source": [
    "print(len(pref_buffer.segments))\n",
    "env.close()"
   ]
  },
  {
   "cell_type": "code",
   "execution_count": 39,
   "metadata": {},
   "outputs": [
    {
     "data": {
      "text/plain": [
       "-4014994444739598383"
      ]
     },
     "execution_count": 39,
     "metadata": {},
     "output_type": "execute_result"
    }
   ],
   "source": [
    "list(pref_buffer.segments.keys())[0]"
   ]
  },
  {
   "cell_type": "code",
   "execution_count": 12,
   "metadata": {},
   "outputs": [
    {
     "name": "stdout",
     "output_type": "stream",
     "text": [
      "f1f75e89-db70-4302-bdcd-7d028ef5d97d\n"
     ]
    }
   ],
   "source": [
    "for key, val in b.items():\n",
    "    "
   ]
  },
  {
   "cell_type": "code",
   "execution_count": 7,
   "metadata": {},
   "outputs": [
    {
     "data": {
      "text/plain": [
       "{}"
      ]
     },
     "execution_count": 7,
     "metadata": {},
     "output_type": "execute_result"
    }
   ],
   "source": [
    "b = {'f1f75e89-db70-4302-bdcd-7d028ef5d97d': [True]}"
   ]
  },
  {
   "cell_type": "code",
   "execution_count": 17,
   "metadata": {},
   "outputs": [
    {
     "ename": "AttributeError",
     "evalue": "module 'gym' has no attribute 'close'",
     "output_type": "error",
     "traceback": [
      "\u001b[0;31m---------------------------------------------------------------------------\u001b[0m",
      "\u001b[0;31mAttributeError\u001b[0m                            Traceback (most recent call last)",
      "\u001b[0;32m<ipython-input-17-fe28fae2995c>\u001b[0m in \u001b[0;36m<module>\u001b[0;34m\u001b[0m\n\u001b[0;32m----> 1\u001b[0;31m \u001b[0mgym\u001b[0m\u001b[0;34m.\u001b[0m\u001b[0mclose\u001b[0m\u001b[0;34m(\u001b[0m\u001b[0;34m)\u001b[0m\u001b[0;34m\u001b[0m\u001b[0;34m\u001b[0m\u001b[0m\n\u001b[0m",
      "\u001b[0;31mAttributeError\u001b[0m: module 'gym' has no attribute 'close'"
     ]
    }
   ],
   "source": [
    "gym.close()"
   ]
  },
  {
   "cell_type": "code",
   "execution_count": 47,
   "metadata": {},
   "outputs": [
    {
     "ename": "NameError",
     "evalue": "name 'out' is not defined",
     "output_type": "error",
     "traceback": [
      "\u001b[0;31m---------------------------------------------------------------------------\u001b[0m",
      "\u001b[0;31mNameError\u001b[0m                                 Traceback (most recent call last)",
      "\u001b[0;32m<ipython-input-47-97d29fbffd0a>\u001b[0m in \u001b[0;36m<module>\u001b[0;34m\u001b[0m\n\u001b[0;32m----> 1\u001b[0;31m \u001b[0mout\u001b[0m\u001b[0;34m[\u001b[0m\u001b[0;34m'4cd7869b-0abc-499c-91d0-d36b4a48c004'\u001b[0m\u001b[0;34m]\u001b[0m\u001b[0;34m[\u001b[0m\u001b[0;36m0\u001b[0m\u001b[0;34m]\u001b[0m\u001b[0;34m[\u001b[0m\u001b[0;36m0\u001b[0m\u001b[0;34m]\u001b[0m\u001b[0;34m[\u001b[0m\u001b[0;36m0\u001b[0m\u001b[0;34m,\u001b[0m\u001b[0;34m:\u001b[0m\u001b[0;34m,\u001b[0m\u001b[0;34m:\u001b[0m\u001b[0;34m,\u001b[0m\u001b[0;36m3\u001b[0m\u001b[0;34m]\u001b[0m\u001b[0;34m.\u001b[0m\u001b[0mshape\u001b[0m\u001b[0;34m\u001b[0m\u001b[0;34m\u001b[0m\u001b[0m\n\u001b[0m",
      "\u001b[0;31mNameError\u001b[0m: name 'out' is not defined"
     ]
    }
   ],
   "source": [
    "out['4cd7869b-0abc-499c-91d0-d36b4a48c004'][0][0][0,:,:,3].shape"
   ]
  },
  {
   "cell_type": "code",
   "execution_count": 30,
   "metadata": {},
   "outputs": [
    {
     "name": "stdout",
     "output_type": "stream",
     "text": [
      "Requirement already satisfied: websocket in /home/kip/anaconda3/lib/python3.7/site-packages (0.2.1)\n",
      "Requirement already satisfied: gevent in /home/kip/anaconda3/lib/python3.7/site-packages (from websocket) (1.4.0)\n",
      "Requirement already satisfied: greenlet in /home/kip/anaconda3/lib/python3.7/site-packages (from websocket) (0.4.15)\n"
     ]
    }
   ],
   "source": [
    "!pip install websocket"
   ]
  },
  {
   "cell_type": "code",
   "execution_count": null,
   "metadata": {},
   "outputs": [],
   "source": []
  }
 ],
 "metadata": {
  "kernelspec": {
   "display_name": "Python 3",
   "language": "python",
   "name": "python3"
  },
  "language_info": {
   "codemirror_mode": {
    "name": "ipython",
    "version": 3
   },
   "file_extension": ".py",
   "mimetype": "text/x-python",
   "name": "python",
   "nbconvert_exporter": "python",
   "pygments_lexer": "ipython3",
   "version": "3.7.6"
  }
 },
 "nbformat": 4,
 "nbformat_minor": 4
}
